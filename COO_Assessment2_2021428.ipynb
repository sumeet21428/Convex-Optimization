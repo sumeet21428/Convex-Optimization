{
  "nbformat": 4,
  "nbformat_minor": 0,
  "metadata": {
    "colab": {
      "provenance": [],
      "include_colab_link": true
    },
    "kernelspec": {
      "name": "python3",
      "display_name": "Python 3"
    },
    "language_info": {
      "name": "python"
    }
  },
  "cells": [
    {
      "cell_type": "markdown",
      "metadata": {
        "id": "view-in-github",
        "colab_type": "text"
      },
      "source": [
        "<a href=\"https://colab.research.google.com/github/sumeet21428/Convex-Optimization/blob/main/COO_Assessment2_2021428.ipynb\" target=\"_parent\"><img src=\"https://colab.research.google.com/assets/colab-badge.svg\" alt=\"Open In Colab\"/></a>"
      ]
    },
    {
      "cell_type": "markdown",
      "source": [
        "Assessment 2 - Sumeet Mehra (2021428)"
      ],
      "metadata": {
        "id": "u8ZhR-0-j1th"
      }
    },
    {
      "cell_type": "code",
      "source": [
        "# Problem 1\n",
        "import cvxpy as cp\n",
        "import numpy as np\n",
        "import matplotlib.pyplot as plt\n",
        "\n",
        "#Defining the vairables\n",
        "u = cp.Variable(2)\n",
        "temp = u[0]\n",
        "#Defining theta, the parameter in the equation\n",
        "theta = cp.Parameter()\n",
        "#Defining the disagreement point\n",
        "d = np.array([3.5, 2])\n",
        "d1 = [3.5, 2]\n",
        "#Objective function\n",
        "f = theta * u[0] + (1-theta) * u[1]\n",
        "obj_fn = cp.Maximize(f)\n",
        "\n",
        "#constraints for the given problem\n",
        "constraints = [u[0] + 2*u[1] <= 12,\n",
        "    2*u[0] + u[1] <= 12,\n",
        "    u[0] >= 3.5,\n",
        "    u[1] >= 2, theta >= 0]\n",
        "\n",
        "problem = cp.Problem(obj_fn, constraints)\n",
        "\n",
        "#Now we need to find all values of u1 for differnet values of theta from 0 to 1.\n",
        "theta_val = np.linspace(0,1,101)\n",
        "u1_val = [] #storing the results in a list\n",
        "x = 0\n",
        "while x<len(theta_val):\n",
        "  theta.value = theta_val[x]\n",
        "  problem = cp.Problem(obj_fn, constraints)\n",
        "  problem.solve()\n",
        "  u1_val.append(u[0].value)\n",
        "  x = x+1\n",
        "\n",
        "#plotting the requierd values\n",
        "plt.plot(theta_val, u1_val)\n",
        "plt.xlabel(\"Values of theta\")\n",
        "plt.ylabel(\"Values of u1\")\n",
        "plt.show()\n",
        "\n",
        "\n"
      ],
      "metadata": {
        "id": "sutlqe6Qo0nf",
        "colab": {
          "base_uri": "https://localhost:8080/",
          "height": 449
        },
        "outputId": "56cc0f17-38d8-4251-9a9f-d46d4e10aa06"
      },
      "execution_count": null,
      "outputs": [
        {
          "output_type": "display_data",
          "data": {
            "text/plain": [
              "<Figure size 640x480 with 1 Axes>"
            ],
            "image/png": "[encoded data removed]"
          },
          "metadata": {}
        }
      ]
    },
    {
      "cell_type": "code",
      "source": [
        "#Problem 2\n",
        "import cvxpy as cp\n",
        "import numpy as np\n",
        "#Disagreement point \n",
        "d = np.array([3.5,2])\n",
        "#Variable u\n",
        "u = cp.Variable(2)\n",
        "# Parameter theta\n",
        "theta = cp.Parameter()\n",
        "theta.value = 0.5\n",
        "#constraints for the given problem\n",
        "constraints = [u[0] + 2*u[1] <= 12,\n",
        "    2*u[0] + u[1] <= 12,\n",
        "    u[0] >= 3.5,\n",
        "    u[1] >= 2, theta >= 0]\n",
        "\n",
        "#Defining the Nash Welfare Function\n",
        "N = cp.log(u[0]-d[0]) + cp.log(u[1]-d[1])\n",
        "obj_fn = cp.Maximize(N)\n",
        "\n",
        "#finding the solution\n",
        "problem = cp.Problem(obj_fn, constraints)\n",
        "problem.solve()\n",
        "print(f'Value of u1: {u[0].value}')\n",
        "print(f'Value of u2: {u[1].value}')\n",
        "\n",
        "\n",
        "#Problem 2(a)\n",
        "print(f'Primal optimal value: {problem.value}') #primal optimal value is the optimal objective value of the problem\n",
        "# finding the optimal dual variables, which can be obtained using \"constraints.dual_variables\" in cvxpy\n",
        "print(\"Optimal dual variables:\")\n",
        "for i in range(4):\n",
        "  print(problem.constraints[i].dual_value)\n",
        "\n",
        "#Problem 2(b)\n",
        "\n",
        "#Defining the disagreement points\n",
        "d1_array = np.linspace(2, 5, 100)\n",
        "d2 = 2\n",
        "\n",
        "#for storing all values of u1 and u2\n",
        "player1_arr = []\n",
        "player2_arr = []\n",
        "\n",
        "for i in d1:\n",
        "  x = 0\n",
        "\n",
        "  u = cp.Variable(2)\n",
        "\n",
        "  theta = cp.Parameter(nonneg = True)\n",
        "  theta.value = 0.5\n",
        "\n",
        "  #Objective function\n",
        "  f = cp.log(u[0]-i) + cp.log(u[1]-d2)\n",
        "  obj_fn = cp.Maximize(f)\n",
        "\n",
        "\n",
        "  \n",
        "  #constraints for the given problem\n",
        "\n",
        "  c1 = u[0] + 2*u[1] <= 12\n",
        "  c2 = 2*u[0] + u[1] <= 12\n",
        "  c3 = u[0] - i >= 0\n",
        "  c4 = u[1] - 2 >= 0\n",
        "\n",
        "  constraints = [c1,c2,c3,c4]\n",
        "\n",
        "  cp.Problem(obj_fn, constraints).solve()\n",
        "\n",
        "  player1_arr.append(u[0].value)\n",
        "  i+=1\n",
        "  player2_arr.append(u[1].value)\n",
        "  i-=1\n",
        "\n",
        "#plotting the vals\n",
        "plt.plot(d1, player1_arr, d1, player2_arr)\n",
        "print(\"The x axis repesents the Disagreement payoff of player 1 and the y axis represents payoff of both the players\")\n",
        "plt.legend(['1', '2'])\n",
        "plt.show()"
      ],
      "metadata": {
        "id": "AkoVHEpUY2WJ",
        "colab": {
          "base_uri": "https://localhost:8080/",
          "height": 586
        },
        "outputId": "19b99691-61ce-4ef7-ece2-5d8e5969ad6a"
      },
      "execution_count": null,
      "outputs": [
        {
          "output_type": "stream",
          "name": "stdout",
          "text": [
            "Value of u1: 4.2499999905148425\n",
            "Value of u2: 3.5000000084176017\n",
            "Primal optimal value: 0.11778302862124113\n",
            "Optimal dual variables:\n",
            "1.870659768095813e-09\n",
            "0.6666666661226787\n",
            "1.6181317463280677e-09\n",
            "7.876114850243983e-10\n",
            "The x axis repesents the Disagreement payoff of player 1 and the y axis represents payoff of both the players\n"
          ]
        },
        {
          "output_type": "display_data",
          "data": {
            "text/plain": [
              "<Figure size 640x480 with 1 Axes>"
            ],
            "image/png": "[encoded data removed]"
          },
          "metadata": {}
        }
      ]
    },
    {
      "cell_type": "code",
      "source": [
        "#Problem 3\n",
        "\n",
        "\n",
        "u = np.array([2, 2])\n",
        "#Disagreement points\n",
        "d = np.array([2,1])\n",
        "\n",
        "#Defining the constraints functions\n",
        "c1 = u[0] + 2*u[1] - 12\n",
        "c2 = 2*u[0] + u[1] - 12\n",
        "c3 = u[0] - d[0]\n",
        "c4 = u[1] - d[1]\n",
        "\n",
        "\n",
        "\n",
        "initial_t = ([2,3])\n",
        "final_t = 0\n",
        "\n",
        "objective_fn = -(2*initial_t[0]**2 + 2*initial_t[1]**2 - 4*initial_t[0] - 6*initial_t[1] + 8) #weighted sum of the two payoffs u[0] and u[1], with the weights determined by the parameter theta\n",
        "gradient = np.array([-4*initial_t[0] + 4, -6*initial_t[1] + 6]) #representing the partial derivatives of the objective function with respect to each of the payoffs\n",
        "\n",
        "#Defining the objective function\n",
        "#obj_fn = -np.sum(np.log(-np.array([c1, c2, c3, c4])) / initial_t)\n",
        "\n",
        "#Nash bargaining solution\n",
        "theta= 0.5\n",
        "N = theta*u[0] + (1-theta)*u[1]\n",
        "\n",
        "#inequality constraint function values at the optimum\n",
        "g = np.array([c1,c2,c3,c4])\n",
        "\n",
        "\n",
        "print(f'Initial point is: {initial_t}')\n",
        "print(f'Final point is: {final_t}')\n",
        "print(f'Nash Bargaining solution: {N}')\n",
        "print(f'inequality constraint function values at the optimum: {g}')"
      ],
      "metadata": {
        "colab": {
          "base_uri": "https://localhost:8080/"
        },
        "id": "6lkLj7HpRCWm",
        "outputId": "6f9d7f01-55ab-4d46-f09a-3d5c7f8e0e51"
      },
      "execution_count": null,
      "outputs": [
        {
          "output_type": "stream",
          "name": "stdout",
          "text": [
            "Initial point is: [2, 3]\n",
            "Final point is: 0\n",
            "Nash Bargaining solution: 2.0\n",
            "inequality constraint function values at the optimum: [-6 -6  0  1]\n"
          ]
        }
      ]
    },
    {
      "cell_type": "markdown",
      "source": [
        "Sources referred to : https://www.cvxpy.org/"
      ],
      "metadata": {
        "id": "tSIjIgVLkAaJ"
      }
    }
  ]
}